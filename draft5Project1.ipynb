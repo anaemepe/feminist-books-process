{
 "cells": [
  {
   "cell_type": "code",
   "execution_count": 1,
   "id": "75f930a3-b4d8-4ae6-b2b1-183beda0bf71",
   "metadata": {},
   "outputs": [],
   "source": [
    "import pandas as pd"
   ]
  },
  {
   "cell_type": "code",
   "execution_count": 2,
   "id": "46dcc9ee-d737-46dd-96dc-2fbf34600900",
   "metadata": {},
   "outputs": [],
   "source": [
    "df = pd.read_csv('booksPRH_analysed2 - Hoja 1.csv')"
   ]
  },
  {
   "cell_type": "code",
   "execution_count": 3,
   "id": "f5ad8867-af01-4633-81ce-74704d5e8b43",
   "metadata": {},
   "outputs": [
    {
     "data": {
      "text/html": [
       "<div>\n",
       "<style scoped>\n",
       "    .dataframe tbody tr th:only-of-type {\n",
       "        vertical-align: middle;\n",
       "    }\n",
       "\n",
       "    .dataframe tbody tr th {\n",
       "        vertical-align: top;\n",
       "    }\n",
       "\n",
       "    .dataframe thead th {\n",
       "        text-align: right;\n",
       "    }\n",
       "</style>\n",
       "<table border=\"1\" class=\"dataframe\">\n",
       "  <thead>\n",
       "    <tr style=\"text-align: right;\">\n",
       "      <th></th>\n",
       "      <th>Title</th>\n",
       "      <th>Link</th>\n",
       "      <th>Author</th>\n",
       "      <th>Publishing Year</th>\n",
       "    </tr>\n",
       "  </thead>\n",
       "  <tbody>\n",
       "    <tr>\n",
       "      <th>0</th>\n",
       "      <td>Las mujeres que aman demasiado</td>\n",
       "      <td>https://www.penguinlibros.com/es/libros-autoay...</td>\n",
       "      <td>Robin Norwood</td>\n",
       "      <td>2019</td>\n",
       "    </tr>\n",
       "    <tr>\n",
       "      <th>1</th>\n",
       "      <td>La regla mola</td>\n",
       "      <td>https://www.penguinlibros.com/es/libros-ninos-...</td>\n",
       "      <td>Cristina Torrón (Menstruita)</td>\n",
       "      <td>2020</td>\n",
       "    </tr>\n",
       "    <tr>\n",
       "      <th>2</th>\n",
       "      <td>Mujeres que corren con los lobos</td>\n",
       "      <td>https://www.penguinlibros.com/es/ciencia-y-tec...</td>\n",
       "      <td>Clarissa Pinkola Estés</td>\n",
       "      <td>2020</td>\n",
       "    </tr>\n",
       "    <tr>\n",
       "      <th>3</th>\n",
       "      <td>Tu argumentario feminista en datos</td>\n",
       "      <td>https://www.penguinlibros.com/es/autoconocimie...</td>\n",
       "      <td>Júlia Salander</td>\n",
       "      <td>2024</td>\n",
       "    </tr>\n",
       "    <tr>\n",
       "      <th>4</th>\n",
       "      <td>Nadie tiene que saberlo excepto tú (edición...</td>\n",
       "      <td>https://www.penguinlibros.com/es/activismo/329...</td>\n",
       "      <td>Madame G. Rouge</td>\n",
       "      <td>2023</td>\n",
       "    </tr>\n",
       "  </tbody>\n",
       "</table>\n",
       "</div>"
      ],
      "text/plain": [
       "                                            Title  \\\n",
       "0                  Las mujeres que aman demasiado   \n",
       "1                                   La regla mola   \n",
       "2                Mujeres que corren con los lobos   \n",
       "3              Tu argumentario feminista en datos   \n",
       "4  Nadie tiene que saberlo excepto tú (edición...   \n",
       "\n",
       "                                                Link  \\\n",
       "0  https://www.penguinlibros.com/es/libros-autoay...   \n",
       "1  https://www.penguinlibros.com/es/libros-ninos-...   \n",
       "2  https://www.penguinlibros.com/es/ciencia-y-tec...   \n",
       "3  https://www.penguinlibros.com/es/autoconocimie...   \n",
       "4  https://www.penguinlibros.com/es/activismo/329...   \n",
       "\n",
       "                         Author  Publishing Year  \n",
       "0                 Robin Norwood             2019  \n",
       "1  Cristina Torrón (Menstruita)             2020  \n",
       "2        Clarissa Pinkola Estés             2020  \n",
       "3                Júlia Salander             2024  \n",
       "4               Madame G. Rouge             2023  "
      ]
     },
     "execution_count": 3,
     "metadata": {},
     "output_type": "execute_result"
    }
   ],
   "source": [
    "df.head()"
   ]
  },
  {
   "cell_type": "code",
   "execution_count": 4,
   "id": "8e09afa4-4f3e-408e-8a37-d8050ac12322",
   "metadata": {},
   "outputs": [
    {
     "data": {
      "text/plain": [
       "Title\n",
       "Brujas                                            2\n",
       "Malas mujeres                                     1\n",
       "Mujeres que corren con los lobos                  1\n",
       "Tu argumentario feminista en datos                1\n",
       "Nadie tiene que saberlo excepto tú (edición...    1\n",
       "                                                 ..\n",
       "Todo eso que no sé cómo explicarle a mi madre     1\n",
       "Historia de la vida privada (edición...           1\n",
       "El mundo es tuyo                                  1\n",
       "Una casa propia                                   1\n",
       "Meditaciones para mujeres que aman demasiado      1\n",
       "Name: count, Length: 117, dtype: int64"
      ]
     },
     "execution_count": 4,
     "metadata": {},
     "output_type": "execute_result"
    }
   ],
   "source": [
    "df.Title.value_counts().sort_values(ascending=False)"
   ]
  },
  {
   "cell_type": "code",
   "execution_count": 5,
   "id": "943dda20-bf07-42e5-a87a-a9eadb41d83f",
   "metadata": {},
   "outputs": [],
   "source": [
    "df_genres = pd.read_csv('booksPRH_genres.csv')"
   ]
  },
  {
   "cell_type": "code",
   "execution_count": 6,
   "id": "94ba24c5-009e-4147-b093-c99b8b4bf1ad",
   "metadata": {},
   "outputs": [
    {
     "data": {
      "text/plain": [
       "0                                             \n",
       "Libros feministas                                 216\n",
       "Ciencia, historia y sociedad                      187\n",
       "Economía, política, sociedad y actualidad         147\n",
       "Sociedad                                          146\n",
       "No Ficción                                        126\n",
       "                                                 ... \n",
       "Cómic juvenil                                       1\n",
       "Fitness y cuidado corporal                          1\n",
       "Prehistoria y Antigüedad                            1\n",
       "Booktok, los libros más recomendados en TikTok      1\n",
       "Influencers, Youtubers y Gamers (+9 años)           1\n",
       "Name: count, Length: 91, dtype: int64"
      ]
     },
     "execution_count": 6,
     "metadata": {},
     "output_type": "execute_result"
    }
   ],
   "source": [
    "df_genres.value_counts().sort_values(ascending=False)"
   ]
  },
  {
   "cell_type": "code",
   "execution_count": 7,
   "id": "d31c9cfa-0e66-45ef-956e-f79efa810655",
   "metadata": {},
   "outputs": [
    {
     "data": {
      "text/plain": [
       "Publishing Year\n",
       "2022    21\n",
       "2023    18\n",
       "2019    16\n",
       "2018    16\n",
       "2024    12\n",
       "2020    10\n",
       "2021     9\n",
       "2017     9\n",
       "2016     3\n",
       "2010     2\n",
       "2015     1\n",
       "2008     1\n",
       "Name: count, dtype: int64"
      ]
     },
     "execution_count": 7,
     "metadata": {},
     "output_type": "execute_result"
    }
   ],
   "source": [
    "df[\"Publishing Year\"].value_counts()"
   ]
  },
  {
   "cell_type": "code",
   "execution_count": 8,
   "id": "939270c9-9387-453a-9831-542e2c9cb3d0",
   "metadata": {},
   "outputs": [
    {
     "data": {
      "text/plain": [
       "Index(['Title', 'Link', 'Author', 'Publishing Year'], dtype='object')"
      ]
     },
     "execution_count": 8,
     "metadata": {},
     "output_type": "execute_result"
    }
   ],
   "source": [
    "df.columns"
   ]
  },
  {
   "cell_type": "code",
   "execution_count": 9,
   "id": "e803356c-8fe7-482d-9506-54d4a728fb68",
   "metadata": {},
   "outputs": [
    {
     "data": {
      "text/plain": [
       "<bound method NDFrame.describe of                                               Title  \\\n",
       "0                    Las mujeres que aman demasiado   \n",
       "1                                     La regla mola   \n",
       "2                  Mujeres que corren con los lobos   \n",
       "3                Tu argumentario feminista en datos   \n",
       "4    Nadie tiene que saberlo excepto tú (edición...   \n",
       "..                                              ...   \n",
       "113   Todo eso que no sé cómo explicarle a mi madre   \n",
       "114         Historia de la vida privada (edición...   \n",
       "115                                El mundo es tuyo   \n",
       "116                                 Una casa propia   \n",
       "117    Meditaciones para mujeres que aman demasiado   \n",
       "\n",
       "                                                  Link  \\\n",
       "0    https://www.penguinlibros.com/es/libros-autoay...   \n",
       "1    https://www.penguinlibros.com/es/libros-ninos-...   \n",
       "2    https://www.penguinlibros.com/es/ciencia-y-tec...   \n",
       "3    https://www.penguinlibros.com/es/autoconocimie...   \n",
       "4    https://www.penguinlibros.com/es/activismo/329...   \n",
       "..                                                 ...   \n",
       "113  https://www.penguinlibros.com/es/economia-poli...   \n",
       "114  https://www.penguinlibros.com/es/libros-de-his...   \n",
       "115  https://www.penguinlibros.com/es/activismo/266...   \n",
       "116  https://www.penguinlibros.com/es/libro-de-biog...   \n",
       "117  https://www.penguinlibros.com/es/libros-autoay...   \n",
       "\n",
       "                           Author  Publishing Year  \n",
       "0                   Robin Norwood             2019  \n",
       "1    Cristina Torrón (Menstruita)             2020  \n",
       "2          Clarissa Pinkola Estés             2020  \n",
       "3                  Júlia Salander             2024  \n",
       "4                 Madame G. Rouge             2023  \n",
       "..                            ...              ...  \n",
       "113                  Sandra Bravo             2021  \n",
       "114                  Georges Duby             2017  \n",
       "115                Claire Shipman             2018  \n",
       "116                  Deborah Levy             2022  \n",
       "117                 Robin Norwood             2019  \n",
       "\n",
       "[118 rows x 4 columns]>"
      ]
     },
     "execution_count": 9,
     "metadata": {},
     "output_type": "execute_result"
    }
   ],
   "source": [
    "df.describe"
   ]
  },
  {
   "cell_type": "code",
   "execution_count": 12,
   "id": "e4d4719e-3a48-454c-80b1-69214b102334",
   "metadata": {},
   "outputs": [
    {
     "data": {
      "text/plain": [
       "0                                        \n",
       "Libros feministas                            216\n",
       "Ciencia, historia y sociedad                 187\n",
       "Economía, política, sociedad y actualidad    147\n",
       "Sociedad                                     146\n",
       "No Ficción                                   126\n",
       "Literatura                                    65\n",
       "Biografías y memorias                         55\n",
       "Historia                                      43\n",
       "Cómic e ilustrados                            38\n",
       "Actualidad                                    38\n",
       "Literatura contemporánea                      38\n",
       "Salud y bienestar                             31\n",
       "Libros de influencers                         30\n",
       "Ocio y libro práctico                         26\n",
       "Ficción                                       25\n",
       "Novela literaria                              25\n",
       "Autoconocimiento y bienestar                  22\n",
       "Bolsillo                                      22\n",
       "Literatura juvenil                            22\n",
       "Activismo                                     18\n",
       "Autoayuda                                     17\n",
       "Libros ilustrados                             17\n",
       "Novela gráfica                                16\n",
       "Libros infantiles                             14\n",
       "Arte, cine y música                           14\n",
       "Historias reales                              14\n",
       "Cómics de influencers                         12\n",
       "Biografías ilustradas                         11\n",
       "Desarrollo personal                            9\n",
       "Familia y crianza                              9\n",
       "Name: count, dtype: int64"
      ]
     },
     "execution_count": 12,
     "metadata": {},
     "output_type": "execute_result"
    }
   ],
   "source": [
    "df_genres.value_counts().sort_values(ascending=False).head(30)"
   ]
  },
  {
   "cell_type": "code",
   "execution_count": 13,
   "id": "1a5de35a-35d8-45bf-8188-75e6be870a93",
   "metadata": {},
   "outputs": [
    {
     "data": {
      "text/plain": [
       "0                                             \n",
       "Ciencia                                           2\n",
       "Filosofía para la vida cotidiana                  2\n",
       "Libros adaptados a películas y series             2\n",
       "Inteligencia emocional                            2\n",
       "Historia del arte                                 2\n",
       "Guías y literatura de viajes                      2\n",
       "Emociones, valores y aprendizaje (+4 años)        2\n",
       "Educación y parenting                             2\n",
       "Economía                                          2\n",
       "Diarios personalizables                           2\n",
       "Cómic de humor                                    2\n",
       "Conflicto israelí-palestino                       2\n",
       "A partir de 4 años                                2\n",
       "Biografías de artistas                            2\n",
       "Relatos y cuentos                                 2\n",
       "Mente y espiritualidad                            2\n",
       "Medicina                                          2\n",
       "Autobiografías                                    2\n",
       "Poesía juvenil                                    2\n",
       "Música                                            2\n",
       "Álbum ilustrado (+4 años)                         2\n",
       "Literatura LGTBIQ+                                2\n",
       "Edad Moderna                                      2\n",
       "Arriba las canas                                  2\n",
       "Libros creativos                                  1\n",
       "Cómic juvenil                                     1\n",
       "Fitness y cuidado corporal                        1\n",
       "Prehistoria y Antigüedad                          1\n",
       "Booktok, los libros más recomendados en TikTok    1\n",
       "Influencers, Youtubers y Gamers (+9 años)         1\n",
       "Name: count, dtype: int64"
      ]
     },
     "execution_count": 13,
     "metadata": {},
     "output_type": "execute_result"
    }
   ],
   "source": [
    "df_genres.value_counts().sort_values(ascending=False).tail(30)"
   ]
  },
  {
   "cell_type": "code",
   "execution_count": null,
   "id": "72294705-ba52-4579-abf0-fe1b303491d9",
   "metadata": {},
   "outputs": [],
   "source": []
  }
 ],
 "metadata": {
  "kernelspec": {
   "display_name": "Python 3 (ipykernel)",
   "language": "python",
   "name": "python3"
  },
  "language_info": {
   "codemirror_mode": {
    "name": "ipython",
    "version": 3
   },
   "file_extension": ".py",
   "mimetype": "text/x-python",
   "name": "python",
   "nbconvert_exporter": "python",
   "pygments_lexer": "ipython3",
   "version": "3.11.8"
  }
 },
 "nbformat": 4,
 "nbformat_minor": 5
}
